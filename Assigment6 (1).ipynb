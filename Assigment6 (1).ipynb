{
 "cells": [
  {
   "cell_type": "code",
   "execution_count": 1,
   "id": "b64093fa-bc01-4cb6-bd4d-d6f43e42b2c6",
   "metadata": {},
   "outputs": [
    {
     "name": "stdin",
     "output_type": "stream",
     "text": [
      "enter the percentage : 85\n"
     ]
    },
    {
     "name": "stdout",
     "output_type": "stream",
     "text": [
      "Grade = B\n"
     ]
    }
   ],
   "source": [
    "'''[Q1-answer:-]'''\n",
    "\n",
    "percentage = int(input(\"enter the percentage :\"))\n",
    "if percentage>90:\n",
    "    print(\"Grade = A\")\n",
    "elif percentage <=90 and percentage > 80:\n",
    "    print(\"Grade = B\")\n",
    "elif percentage <= 80 and percentage >60:\n",
    "    print(\"Grade = C\")\n",
    "else:\n",
    "    print(\"Grade = D\")"
   ]
  },
  {
   "cell_type": "code",
   "execution_count": 9,
   "id": "938a3146-a656-4ade-9936-f5c2a8ff8f69",
   "metadata": {},
   "outputs": [
    {
     "name": "stdin",
     "output_type": "stream",
     "text": [
      "enter the cost prize : 4005\n"
     ]
    },
    {
     "name": "stdout",
     "output_type": "stream",
     "text": [
      "200.25\n"
     ]
    }
   ],
   "source": [
    "'''[Q2answer:-]'''\n",
    "cost_prize = int(input(\"enter the cost prize :\"))\n",
    "if cost_prize>100000:\n",
    "    tax = cost_prize*15/100\n",
    "    print(tax)\n",
    "elif cost_prize <= 100000 and cost_prize>50000:\n",
    "    tax = cost_prize*10/100\n",
    "    print(tax)\n",
    "else :\n",
    "    tax=cost_prize*5/100\n",
    "    print(tax)"
   ]
  },
  {
   "cell_type": "code",
   "execution_count": 3,
   "id": "b3347488-fd84-4385-a0c4-d3f3da3a5258",
   "metadata": {},
   "outputs": [
    {
     "name": "stdin",
     "output_type": "stream",
     "text": [
      "enter the city name : patna\n"
     ]
    },
    {
     "name": "stdout",
     "output_type": "stream",
     "text": [
      "Gol Ghar\n"
     ]
    }
   ],
   "source": [
    "'''[Q3-answer:-]'''\n",
    "\n",
    "#enter the city name like delhi, argra, jaipur, patna, phopal etc.\n",
    "city_name = input(\"enter the city name :\")\n",
    "if city_name == 'delhi':\n",
    "    print(\"Red  Fort\")\n",
    "elif city_name == 'argra':\n",
    "    print(\"Taj Mahal\")\n",
    "elif city_name == 'jaipur':\n",
    "    print(\"Jal Mahal\")\n",
    "elif city_name == 'patna':\n",
    "    print(\"Gol Ghar\")\n",
    "elif city_name == 'bhopal':\n",
    "    print(\"Taj-ul-Masjid\")\n",
    "elif city_name == 'kolkata':\n",
    "    print(\"Victoria Memoria\")\n",
    "else:\n",
    "    print(\"I dont know about this city monument please enter the another city\")"
   ]
  },
  {
   "cell_type": "code",
   "execution_count": 2,
   "id": "4a20490d-3aee-4977-bcba-51a75b792f1e",
   "metadata": {},
   "outputs": [
    {
     "name": "stdin",
     "output_type": "stream",
     "text": [
      "enter the numebr : 20154\n"
     ]
    },
    {
     "name": "stdout",
     "output_type": "stream",
     "text": [
      "7\n"
     ]
    }
   ],
   "source": [
    "'''[Q4-answer:-]'''\n",
    "number = int(input(\"enter the numebr :\"))\n",
    "count=0\n",
    "while number>=10:\n",
    "    count+=1\n",
    "    number=number/3\n",
    "print(count)"
   ]
  },
  {
   "cell_type": "code",
   "execution_count": 9,
   "id": "33543f1c-b84d-40bb-8aa1-8a63c24c11cf",
   "metadata": {},
   "outputs": [
    {
     "data": {
      "text/plain": [
       "5.0"
      ]
     },
     "execution_count": 9,
     "metadata": {},
     "output_type": "execute_result"
    }
   ],
   "source": [
    "'''[Q5-answer:-]'''\n",
    "\n",
    "#why and when use to while loop in python give a detailed description with example?\n",
    "'''\n",
    "A while loop in Python is used when you want to repeatedly execute a block of code as long as a certain condition is true.\n",
    "It's ideal for situations where you don't know in advance how many times the loop will need to run,\n",
    "and you want to continue executing code until a specific condition is met.\n",
    "\n",
    "Here's a detailed description with an example:\n",
    "'''\n",
    "# Example 1: Basic while loop\n",
    "count = 0\n",
    "while count < 5:\n",
    "    print(\"Count is:\", count)\n",
    "    count += 1\n",
    "'''\n",
    "In this example, the while loop will execute as long as the condition count < 5 is true.\n",
    "The variable count starts at 0, and with each iteration of the loop, it is incremented by 1.\n",
    "The loop continues until count becomes equal to or greater than 5.\n",
    "'''"
   ]
  },
  {
   "cell_type": "code",
   "execution_count": 8,
   "id": "067f9b27-8ede-44f6-8dc9-1a7e2dcb5adf",
   "metadata": {},
   "outputs": [
    {
     "name": "stdout",
     "output_type": "stream",
     "text": [
      "pattern 1\n"
     ]
    },
    {
     "name": "stdin",
     "output_type": "stream",
     "text": [
      "enter the numebr : 5\n"
     ]
    },
    {
     "name": "stdout",
     "output_type": "stream",
     "text": [
      "*\n",
      "**\n",
      "***\n",
      "****\n",
      "*****\n",
      "\n",
      "pattern 2\n",
      "\n",
      "*****\n",
      "****\n",
      "***\n",
      "**\n",
      "*\n",
      "pattern 3\n",
      "    *\n",
      "   ***\n",
      "  *****\n",
      " *******\n",
      "*********\n"
     ]
    }
   ],
   "source": [
    "'''[Q6-answer:-]'''\n",
    "\n",
    "#use nested while loop to print 3 different pattner?\n",
    "print('pattern 1')\n",
    "number = int(input(\"enter the numebr :\"))\n",
    "i=1\n",
    "while i<=number:\n",
    "    print(\"*\"*(i))\n",
    "    i+=1\n",
    "\n",
    "print('\\npattern 2\\n')\n",
    "i=0\n",
    "while number > i:\n",
    "    print(\"*\"*(number-i))\n",
    "    i+=1\n",
    "    \n",
    "print('pattern 3')\n",
    "i = 1\n",
    "while number >= i:\n",
    "    print(' '*(number-i),end='')\n",
    "    print('*'*(2*i-1))\n",
    "    i+=1"
   ]
  },
  {
   "cell_type": "code",
   "execution_count": 3,
   "id": "d3d722b3-f2e7-4a0d-86af-167ae85259ab",
   "metadata": {},
   "outputs": [
    {
     "name": "stdin",
     "output_type": "stream",
     "text": [
      "enter the number: 10\n"
     ]
    },
    {
     "name": "stdout",
     "output_type": "stream",
     "text": [
      "10\n",
      "9\n",
      "8\n",
      "7\n",
      "6\n",
      "5\n",
      "4\n",
      "3\n",
      "2\n",
      "1\n"
     ]
    }
   ],
   "source": [
    "'''[Q7-answer:-]'''\n",
    "\n",
    "#Reverse a while loop to display number from 10 to 1?\n",
    "number = int(input(\"enter the number:\"))\n",
    "i = 0\n",
    "while number > i:\n",
    "    print(number-i)\n",
    "    i+=1"
   ]
  }
 ],
 "metadata": {
  "kernelspec": {
   "display_name": "Python 3 (ipykernel)",
   "language": "python",
   "name": "python3"
  },
  "language_info": {
   "codemirror_mode": {
    "name": "ipython",
    "version": 3
   },
   "file_extension": ".py",
   "mimetype": "text/x-python",
   "name": "python",
   "nbconvert_exporter": "python",
   "pygments_lexer": "ipython3",
   "version": "3.10.8"
  }
 },
 "nbformat": 4,
 "nbformat_minor": 5
}
